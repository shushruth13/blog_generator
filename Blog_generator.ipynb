{
  "cells": [
    {
      "cell_type": "markdown",
      "metadata": {
        "id": "qMj8hc2b_zrA"
      },
      "source": [
        "### **OpenAi**"
      ]
    },
    {
      "cell_type": "code",
      "execution_count": null,
      "metadata": {
        "id": "r3nCkS8L_zrB"
      },
      "outputs": [],
      "source": [
        "import openai\n",
        "import os\n",
        "\n",
        "from openai import OpenAI"
      ]
    },
    {
      "cell_type": "code",
      "execution_count": null,
      "metadata": {
        "id": "b36ulm-9_zrC"
      },
      "outputs": [],
      "source": [
        "os.environ[\"OPENAI_API_KEY\"] = \"API_KEY\"\n",
        "client = OpenAI()"
      ]
    },
    {
      "cell_type": "code",
      "execution_count": null,
      "metadata": {
        "id": "M9tvV5uy_zrC",
        "outputId": "d52a5f5a-b57a-4906-9536-96f772f33449"
      },
      "outputs": [
        {
          "name": "stdout",
          "output_type": "stream",
          "text": [
            "SyncPage[Model](data=[Model(id='gpt-4.5-preview', created=1740623059, object='model', owned_by='system'), Model(id='gpt-4.5-preview-2025-02-27', created=1740623304, object='model', owned_by='system'), Model(id='gpt-4o-mini-2024-07-18', created=1721172717, object='model', owned_by='system'), Model(id='gpt-4o-mini-audio-preview-2024-12-17', created=1734115920, object='model', owned_by='system'), Model(id='dall-e-3', created=1698785189, object='model', owned_by='system'), Model(id='dall-e-2', created=1698798177, object='model', owned_by='system'), Model(id='gpt-4o-audio-preview-2024-10-01', created=1727389042, object='model', owned_by='system'), Model(id='gpt-4o-audio-preview', created=1727460443, object='model', owned_by='system'), Model(id='o1-mini-2024-09-12', created=1725648979, object='model', owned_by='system'), Model(id='o1-mini', created=1725649008, object='model', owned_by='system'), Model(id='omni-moderation-latest', created=1731689265, object='model', owned_by='system'), Model(id='gpt-4o-mini-audio-preview', created=1734387424, object='model', owned_by='system'), Model(id='omni-moderation-2024-09-26', created=1732734466, object='model', owned_by='system'), Model(id='whisper-1', created=1677532384, object='model', owned_by='openai-internal'), Model(id='babbage-002', created=1692634615, object='model', owned_by='system'), Model(id='tts-1-hd-1106', created=1699053533, object='model', owned_by='system'), Model(id='text-embedding-3-large', created=1705953180, object='model', owned_by='system'), Model(id='gpt-4o-2024-05-13', created=1715368132, object='model', owned_by='system'), Model(id='tts-1-hd', created=1699046015, object='model', owned_by='system'), Model(id='o1-preview', created=1725648897, object='model', owned_by='system'), Model(id='o1-preview-2024-09-12', created=1725648865, object='model', owned_by='system'), Model(id='gpt-4o-2024-11-20', created=1739331543, object='model', owned_by='system'), Model(id='gpt-3.5-turbo-instruct-0914', created=1694122472, object='model', owned_by='system'), Model(id='tts-1', created=1681940951, object='model', owned_by='openai-internal'), Model(id='tts-1-1106', created=1699053241, object='model', owned_by='system'), Model(id='davinci-002', created=1692634301, object='model', owned_by='system'), Model(id='gpt-3.5-turbo-1106', created=1698959748, object='model', owned_by='system'), Model(id='gpt-3.5-turbo-instruct', created=1692901427, object='model', owned_by='system'), Model(id='gpt-4o-2024-08-06', created=1722814719, object='model', owned_by='system'), Model(id='gpt-3.5-turbo-0125', created=1706048358, object='model', owned_by='system'), Model(id='gpt-3.5-turbo', created=1677610602, object='model', owned_by='openai'), Model(id='gpt-3.5-turbo-16k', created=1683758102, object='model', owned_by='openai-internal'), Model(id='gpt-4o', created=1715367049, object='model', owned_by='system'), Model(id='text-embedding-3-small', created=1705948997, object='model', owned_by='system'), Model(id='text-embedding-ada-002', created=1671217299, object='model', owned_by='openai-internal'), Model(id='gpt-4o-mini', created=1721172741, object='model', owned_by='system')], object='list')\n"
          ]
        }
      ],
      "source": [
        "print(client.models.list())"
      ]
    },
    {
      "cell_type": "code",
      "execution_count": null,
      "metadata": {
        "id": "Hny14f6Z_zrD"
      },
      "outputs": [],
      "source": [
        "client.completions.create(\n",
        "    model=\"gpt-3.5-turbo\",  # Use a correct model\n",
        "    prompt=\"Tell me a joke\",\n",
        "    )"
      ]
    },
    {
      "cell_type": "code",
      "execution_count": null,
      "metadata": {
        "id": "xT3Gilb__zrD"
      },
      "outputs": [],
      "source": [
        "response = client.completions.create(\n",
        "    model=\"gpt-3.5-turbo\",\n",
        "    prompt=\"Tell me a joke\",\n",
        "    temperature=1,\n",
        "    max_tokens=100,\n",
        "    )"
      ]
    },
    {
      "cell_type": "code",
      "execution_count": null,
      "metadata": {
        "id": "MnfZKxUG_zrD"
      },
      "outputs": [],
      "source": [
        "print(response)"
      ]
    },
    {
      "cell_type": "code",
      "execution_count": null,
      "metadata": {
        "id": "QHPPToXg_zrD"
      },
      "outputs": [],
      "source": [
        "print(response.choices[0].text)"
      ]
    },
    {
      "cell_type": "code",
      "execution_count": null,
      "metadata": {
        "id": "Tny0JTS9_zrD"
      },
      "outputs": [],
      "source": [
        "prompt = \"\"\"\"\n",
        "You are a copy writer with years of experience writing impactful blog that converge and help elevate brands.\n",
        "Your task is to write a blog on any topic system provides you with. Make sure to write in a format that works for Medium.\n",
        "Each blog should be separated into segments that have titles and subtitles. Each paragraph should be three sentences long.\n",
        "\n",
        "Topic: GTA 6\n",
        "Additional pointers: None\n",
        "\"\"\"\n",
        "\n",
        "response = client.completions.create(\n",
        "    model=\"gpt-3.5-turbo\",\n",
        "    prompt=prompt,\n",
        "    temperature=1,\n",
        "    max_tokens=700,\n",
        "    )"
      ]
    },
    {
      "cell_type": "code",
      "execution_count": null,
      "metadata": {
        "colab": {
          "base_uri": "https://localhost:8080/",
          "height": 600
        },
        "id": "iE2sAIw-I7WG",
        "outputId": "482d326c-04e3-41d5-9f8e-6b8df9aff237"
      },
      "outputs": [
        {
          "name": "stdout",
          "output_type": "stream",
          "text": [
            "# Grand Theft Auto VI: Hype, Leaks, and Hope for a Revolutionary Open World\n",
            "\n",
            "**Introduction: The Long Wait is Almost Over**\n",
            "\n",
            "The gaming world is abuzz. For years, whispers and rumors have circulated, fueling the fervent anticipation surrounding Grand Theft Auto VI.  Fans eagerly await the next installment in the iconic franchise, a game promising a new era of open-world mayhem. The sheer magnitude of the anticipation is palpable, with every leaked image or snippet of information igniting a wildfire of discussion online.\n",
            "\n",
            "\n",
            "**The Leaks and the Fallout: A Double-Edged Sword**\n",
            "\n",
            "Numerous leaks have surfaced over the past year, offering tantalizing glimpses into the game's potential.  These leaks, while exciting, have also raised concerns about Rockstar's development process and the security of their internal information. The unprecedented scale of the leaks has sparked debates about the ethical implications of data breaches and the impact on the gaming community.  It’s a complex situation with no easy answers, leaving both fans and developers grappling with the fallout.\n",
            "\n",
            "\n",
            "**A New Protagonist, A New Setting? Speculation Runs Wild**\n",
            "\n",
            "Initial reports suggest GTA VI will feature a female protagonist for the first time, a monumental shift for the series. This progressive move has garnered considerable praise, with many hoping it signals a broader commitment to diversity and inclusivity. The setting remains a point of fervent speculation; some suggest Vice City, others a fictionalized version of Miami.  Each theory fuels more discussion, raising anticipation even higher.\n",
            "\n",
            "\n",
            "**Beyond the Graphics: What We Really Want from GTA VI**\n",
            "\n",
            "While stunning graphics are always a draw, the true heart of GTA lies in its gameplay and story.  Players crave a deep, engaging narrative with memorable characters and impactful choices that shape the experience. This sixth installment needs to not only build on its predecessors but also innovate, delivering a truly unforgettable gaming experience.  Rockstar must avoid relying solely on nostalgia, instead embracing fresh ideas and bold choices.\n",
            "\n",
            "\n",
            "**The Future of Open-World Games: Setting a New Standard**\n",
            "\n",
            "GTA VI has the potential to redefine the open-world genre.  Its immense scale and anticipated features could serve as a blueprint for future games, inspiring developers to push the boundaries of immersive gameplay.  The success of GTA VI will depend heavily on Rockstar's ability to manage expectations and deliver a product that lives up to the colossal hype.  The weight of expectation is significant, but the potential reward is even greater.\n",
            "\n",
            "\n",
            "**Conclusion: The Hype is Real, the Wait is Nearly Over**\n",
            "\n",
            "Grand Theft Auto VI is more than just a video game; it's a cultural phenomenon.  The anticipation is palpable, fueled by leaks, speculation, and the legacy of the franchise itself.  The coming months will be crucial, determining whether Rockstar can deliver on the immense promise and satisfy the years of pent-up demand.  The world waits with bated breath.\n",
            "\n"
          ]
        }
      ],
      "source": [
        "import google.generativeai as genai\n",
        "\n",
        "# Set up Google API key (replace with your actual API key)\n",
        "GOOGLE_API_KEY = \"API_KEY\"\n",
        "genai.configure(api_key=GOOGLE_API_KEY)\n",
        "\n",
        "# Initialize the Gemini model\n",
        "model = genai.GenerativeModel(\"gemini-1.5-flash\")\n",
        "\n",
        "# Define the prompt\n",
        "prompt = \"\"\"\n",
        "You are a copywriter with years of experience writing impactful blogs that convert and help elevate brands.\n",
        "Your task is to write a blog on any topic the system provides you with. Make sure to write in a format that works for Medium.\n",
        "Each blog should be separated into segments that have titles and subtitles. Each paragraph should be three sentences long.\n",
        "\n",
        "Topic: GTA 6\n",
        "Additional pointers: None\n",
        "\"\"\"\n",
        "\n",
        "# Generate response\n",
        "response = model.generate_content(prompt)\n",
        "\n",
        "# Print the output\n",
        "print(response.text)\n"
      ]
    },
    {
      "cell_type": "code",
      "execution_count": null,
      "metadata": {
        "id": "q3OPPHb5_zrE"
      },
      "outputs": [],
      "source": [
        "topic = input(\"Enter a topic: \")\n",
        "pointers = input(\"Enter additional pointers: \")\n",
        "\n",
        "prompt = \"\"\"\"\n",
        "You are a copy writer with years of experience writing impactful blog that converge and help elevate brands.\n",
        "Your task is to write a blog on any topic system provides you with. Make sure to write in a format that works for Medium.\n",
        "Each blog should be separated into segments that have titles and subtitles. Each paragraph should be three sentences long.\n",
        "\n",
        "Topic: {topic}\n",
        "Additional pointers: {pointers}\n",
        "\"\"\"\n",
        "\n",
        "response = client.completions.create(\n",
        "    model=\"gpt-3.5-turbo\",\n",
        "    prompt=prompt,\n",
        "    temperature=1,\n",
        "    max_tokens=700,\n",
        "    )"
      ]
    },
    {
      "cell_type": "markdown",
      "metadata": {
        "id": "TwbyfbWs_zrE"
      },
      "source": [
        "### **Gemini**"
      ]
    },
    {
      "cell_type": "code",
      "execution_count": null,
      "metadata": {
        "id": "9TbA7Kvz_zrE"
      },
      "outputs": [],
      "source": [
        "import google.generativeai as genai\n",
        "\n",
        "# Set up Google API key (replace with your actual API key)\n",
        "GOOGLE_API_KEY = \"API_KEY\"\n",
        "genai.configure(api_key=GOOGLE_API_KEY)\n",
        "\n",
        "# Initialize the Gemini model (1.5 Flash is faster & cheaper)\n",
        "model = genai.GenerativeModel(\"gemini-2.0-flash\")"
      ]
    },
    {
      "cell_type": "code",
      "execution_count": null,
      "metadata": {
        "id": "C17slD6K_zrE",
        "outputId": "dc19b979-aeb3-404c-8e7f-664821d16d5d"
      },
      "outputs": [
        {
          "name": "stdout",
          "output_type": "stream",
          "text": [
            "Joke: Why don't scientists trust atoms?\n",
            "\n",
            "Because they make up everything!\n",
            "\n"
          ]
        }
      ],
      "source": [
        "# Example 1: Generate a joke\n",
        "joke_prompt = \"Tell me a joke.\"\n",
        "joke_response = model.generate_content(joke_prompt)\n",
        "print(\"Joke:\", joke_response.text)"
      ]
    },
    {
      "cell_type": "code",
      "execution_count": 4,
      "metadata": {
        "colab": {
          "base_uri": "https://localhost:8080/",
          "height": 582
        },
        "id": "7IMNBPrj_zrE",
        "outputId": "96eeff80-c80e-4e9f-ddb6-1a1fc4beea7f"
      },
      "outputs": [
        {
          "name": "stdout",
          "output_type": "stream",
          "text": [
            "\n",
            " MS Dhoni:\n",
            " ## Beyond the Helicopter Shot: Decoding the Enduring Appeal of MS Dhoni\n",
            "\n",
            "**The Captain. The Finisher. The Legend.** MS Dhoni isn't just a name; it's an emotion felt by millions across the globe. He represents more than just cricketing prowess; he embodies leadership, composure, and a certain undeniable charisma that transcends the sport. This blog delves into the factors contributing to Dhoni's enduring appeal, dissecting the man beyond the helicopter shot.\n",
            "\n",
            "### A Leader Unlike Any Other: Captain Cool's Impact\n",
            "\n",
            "Dhoni's leadership style was unconventional, yet incredibly effective. He fostered a culture of trust and empowerment within his teams, allowing players to take ownership and perform under pressure. His calm demeanor in high-stakes situations, earning him the moniker \"Captain Cool,\" instilled confidence in his teammates and rattled opponents.\n",
            "\n",
            "He always prioritized the team over individual glory. Dhoni's ability to read the game and make crucial decisions, often defying conventional wisdom, led to countless victories for India. This selflessness and strategic brilliance cemented his legacy as one of the greatest captains of all time.\n",
            "\n",
            "### The Art of the Finish: A Masterclass in Pressure\n",
            "\n",
            "Few cricketers have mastered the art of finishing an innings quite like MS Dhoni. He possessed an uncanny ability to assess the situation, control the tempo, and deliver the knockout blow in the final overs. His calculated aggression and unwavering belief in his abilities made him a nightmare for bowlers.\n",
            "\n",
            "The helicopter shot became synonymous with Dhoni's finishing prowess. It was a testament to his innovative approach and raw power, often clearing the boundary to seal victory. However, his finishing wasn't just about brute force; it was about strategic placement, understanding angles, and unwavering mental fortitude.\n",
            "\n",
            "### Humble Beginnings, Global Icon: The Dhoni Story\n",
            "\n",
            "Dhoni's journey from a small-town boy to a global icon is a source of inspiration for many. He rose through the ranks with sheer determination and hard work, defying expectations at every turn. His grounded nature and humility, despite his immense success, resonated deeply with the masses.\n",
            "\n",
            "He never forgot his roots, often speaking fondly of his early struggles and the lessons he learned along the way. This authenticity made him relatable to people from all walks of life, solidifying his status as a true national hero. Dhoni is a symbol of hope and aspiration for countless aspiring cricketers and individuals.\n",
            "\n",
            "### Beyond the Game: Dhoni's Enduring Legacy\n",
            "\n",
            "MS Dhoni's influence extends far beyond the cricket field. He's a role model for young people, demonstrating the importance of hard work, humility, and leadership. He has inspired a generation to believe in themselves and chase their dreams.\n",
            "\n",
            "His contribution to Indian cricket is immeasurable, transforming the team into a global powerhouse and bringing joy to millions. Dhoni's legacy will continue to inspire and influence generations to come, both on and off the field. He is a true icon, a legend, and an embodiment of the spirit of India.\n",
            "\n"
          ]
        }
      ],
      "source": [
        "# Example 2: Generate a blog on GTA 6\n",
        "blog_prompt = \"\"\"\n",
        "You are a copywriter with years of experience writing impactful blogs that elevate brands.\n",
        "Your task is to write a blog on any topic provided. Make sure to format it for Medium.\n",
        "Each blog should have clear segments with titles and subtitles.\n",
        "Each paragraph should be three sentences long.\n",
        "\n",
        "Topic: MS Dhoni\n",
        "Additional pointers: None\n",
        "\"\"\"\n",
        "blog_response = model.generate_content(blog_prompt)\n",
        "print(\"\\n MS Dhoni:\\n\", blog_response.text)\n"
      ]
    },
    {
      "cell_type": "code",
      "execution_count": null,
      "metadata": {
        "colab": {
          "base_uri": "https://localhost:8080/",
          "height": 636
        },
        "id": "qEXvu3nO_zrF",
        "outputId": "79748cf0-d8b0-4946-dabd-df70fc90cf0a"
      },
      "outputs": [
        {
          "name": "stdout",
          "output_type": "stream",
          "text": [
            "\n",
            "Enter a topic: Cricket\n",
            "Enter additional pointers: History of Cricket\n",
            "\n",
            "Generated Blog:\n",
            " ## Beyond the Boundary: A Look at the Enduring History of Cricket\n",
            "\n",
            "Cricket, a sport often associated with long summer days and afternoon tea, holds a rich and fascinating history. From its humble beginnings to its current global status, cricket’s evolution tells a story of cultural exchange, sporting innovation, and unwavering passion. This blog will delve into the fascinating history of this beloved sport, exploring its key milestones and the factors that contributed to its enduring appeal.\n",
            "\n",
            "### The Early Days: From Village Greens to Gentlemen's Clubs\n",
            "\n",
            "Cricket's origins can be traced back to the 16th century in South East England. Initially played as a children's game, it gradually gained popularity amongst adults in rural communities. The earliest definitive reference to cricket appears in 1598, marking its official entry into recorded history.\n",
            "\n",
            "By the 17th century, cricket had begun to evolve into a more organized sport. Matches were often arranged between villages and parishes, attracting considerable local interest and even betting. This period witnessed the emergence of basic rules and the gradual standardization of the game's equipment.\n",
            "\n",
            "The game soon caught the attention of the English aristocracy, leading to the formation of gentlemen's clubs and the formalization of cricket rules. The Marylebone Cricket Club (MCC), founded in 1787, became the custodian of the Laws of Cricket and played a vital role in shaping the game’s development. Its influence continues to this day, making it a truly important part of the sport.\n",
            "\n",
            "### Expansion and Empire: Cricket Goes Global\n",
            "\n",
            "The 19th century saw cricket spread far beyond the shores of England, primarily thanks to the expansion of the British Empire. British colonists introduced the game to various parts of the world, including India, Australia, and the West Indies. These regions, in turn, embraced cricket and developed their own unique playing styles and traditions.\n",
            "\n",
            "The first official Test match, played between England and Australia in 1877, marked a significant milestone in cricket history. This event signified the beginning of international cricket and paved the way for the establishment of other national teams. It was the beginning of a thrilling rivalry that continues to captivate fans worldwide.\n",
            "\n",
            "Cricket became deeply ingrained in the cultural fabric of many Commonwealth countries, acting as a symbol of national identity and sporting prowess. The sport provided a platform for these nations to showcase their talent on the world stage. This created a sense of unity and pride that transcended political boundaries.\n",
            "\n",
            "### Modern Cricket: Innovation and Popularity\n",
            "\n",
            "The 20th and 21st centuries have witnessed significant changes in the game, driven by technological advancements and evolving audience preferences. The introduction of limited-overs cricket, including One Day Internationals (ODIs) and Twenty20 (T20) formats, revolutionized the sport. These shorter, faster-paced formats attracted new audiences and increased cricket's global appeal.\n",
            "\n",
            "Modern cricket is characterized by its athleticism, strategic depth, and entertainment value. Professional leagues, such as the Indian Premier League (IPL) and the Big Bash League (BBL), have further enhanced the game's popularity. They attract top players from around the world and provide a platform for innovation in both batting and bowling techniques.\n",
            "\n",
            "From its humble beginnings on village greens to its current status as a global sporting phenomenon, cricket’s journey is a testament to its enduring appeal. The sport's rich history, diverse cultural influences, and constant evolution ensure its continued relevance and popularity for generations to come. It continues to be a sport with a rich heritage and an exciting future.\n",
            "\n"
          ]
        }
      ],
      "source": [
        "# Example 3: Dynamic topic input for blogs\n",
        "topic = input(\"\\nEnter a topic: \")\n",
        "pointers = input(\"Enter additional pointers: \")\n",
        "\n",
        "dynamic_blog_prompt = f\"\"\"\n",
        "You are a copywriter with years of experience writing impactful blogs that elevate brands.\n",
        "Your task is to write a blog on any topic provided. Make sure to format it for Medium.\n",
        "Each blog should have clear segments with titles and subtitles.\n",
        "Each paragraph should be three sentences long.\n",
        "\n",
        "Topic: {topic}\n",
        "Additional pointers: {pointers}\n",
        "\"\"\"\n",
        "dynamic_blog_response = model.generate_content(dynamic_blog_prompt)\n",
        "print(\"\\nGenerated Blog:\\n\", dynamic_blog_response.text)"
      ]
    }
  ],
  "metadata": {
    "colab": {
      "provenance": []
    },
    "kernelspec": {
      "display_name": "Python 3",
      "language": "python",
      "name": "python3"
    },
    "language_info": {
      "codemirror_mode": {
        "name": "ipython",
        "version": 3
      },
      "file_extension": ".py",
      "mimetype": "text/x-python",
      "name": "python",
      "nbconvert_exporter": "python",
      "pygments_lexer": "ipython3",
      "version": "3.12.6"
    }
  },
  "nbformat": 4,
  "nbformat_minor": 0
}
